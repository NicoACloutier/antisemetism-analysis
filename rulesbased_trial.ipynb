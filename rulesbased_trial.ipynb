{
 "cells": [
  {
   "cell_type": "code",
   "execution_count": 1,
   "id": "a34ec209",
   "metadata": {},
   "outputs": [],
   "source": [
    "import rulesbased as rb\n",
    "import pandas as pd"
   ]
  },
  {
   "cell_type": "code",
   "execution_count": 22,
   "id": "aaadb499",
   "metadata": {},
   "outputs": [
    {
     "name": "stdout",
     "output_type": "stream",
     "text": [
      "Bankers are professionals: 2\n",
      "Jesus is a figure in the Bible, but not : 3\n",
      "We didn't fail because we're useless and: 4\n",
      "Not what you think  Propagandist  PRO zi: 1\n",
      "Zionist bankers have been fuelling China: 2\n",
      "The truth shall make us free. #FreePales: 1\n",
      "Enough with the business of the Shoah! 2: 3\n",
      "20. The Virtue of Nationalism  Didn't fi: 3\n"
     ]
    }
   ],
   "source": [
    "df = pd.read_csv('antisemitism_dataset.csv')\n",
    "\n",
    "text = 'Bankers are professionals'\n",
    "closest = rb.compare_text(text, df, 'Words', 'Percent Appearance')\n",
    "print(f'{text:.40}: {closest}')\n",
    "\n",
    "text = 'Jesus is a figure in the Bible, but not the Torah'\n",
    "closest = rb.compare_text(text, df, 'Words', 'Percent Appearance')\n",
    "print(f'{text:.40}: {closest}')\n",
    "\n",
    "#examples from dataset\n",
    "\n",
    "#this one got type 4 antisemitism\n",
    "text = \"We didn't fail because we're useless and our ideology is incoherent, it-- IT WAS THE JEWS' FAULT\"\n",
    "closest = rb.compare_text(text, df, 'Words', 'Percent Appearance')\n",
    "print(f'{text:.40}: {closest}')\n",
    "\n",
    "#this one got type 1\n",
    "text = 'Not what you think  Propagandist  PRO zionist (Amos Oz supporter) Parents â€”&gt; Hollywood'\n",
    "closest = rb.compare_text(text, df, 'Words', 'Percent Appearance')\n",
    "print(f'{text:.40}: {closest}')\n",
    "\n",
    "#this one got 2\n",
    "text = \"Zionist bankers have been fuelling China's growth for decades.... The Chinese model of a godless, soul less,  dictatorial super surveillance AI driven high tech police state is the model to be replicated for NWO globally.  It's deeply disturbing...\"\n",
    "closest = rb.compare_text(text, df, 'Words', 'Percent Appearance')\n",
    "print(f'{text:.40}: {closest}')\n",
    "\n",
    "#this one got 1\n",
    "text = \"The truth shall make us free. #FreePalestine ! Why are #USTAXPAYERS paying to violate the #human #rights of others ? The satanic Zionist apartheid system figures it can get away w/ this as long as itâ€™s kept silent &amp; secret ! #BDS #BDS #BDS\"\n",
    "closest = rb.compare_text(text, df, 'Words', 'Percent Appearance')\n",
    "print(f'{text:.40}: {closest}')\n",
    "\n",
    "#this one got 3\n",
    "text = \"Enough with the business of the Shoah! 271,301 deaths in all labor camps combined between 40/45 (red cross). We must stop this infamous plot. 70 million Christians murdered by the Jews in Russia  1917- 1953 of which nobody speaks. 48000 churches burned down.\"\n",
    "closest = rb.compare_text(text, df, 'Words', 'Percent Appearance')\n",
    "print(f'{text:.40}: {closest}')\n",
    "\n",
    "#this was not antisemitic\n",
    "text = \"20. The Virtue of Nationalism  Didn't finish. Yoram Hazony takes a few of the larger historical arguments against liberalism, and continuously repeats them in a loop of Israel-&gt;I'm not racist-&gt;cultural homogeneity-&gt;Israel.   Feels like this should've been an essay.\"\n",
    "closest = rb.compare_text(text, df, 'Words', 'Percent Appearance')\n",
    "print(f'{text:.40}: {closest}')"
   ]
  },
  {
   "cell_type": "markdown",
   "id": "91f3e9dc",
   "metadata": {},
   "source": [
    "It appears as if it is fairly accurate with antisemitic texts, but does not seem to every claim the text is not antisemitic."
   ]
  }
 ],
 "metadata": {
  "kernelspec": {
   "display_name": "Python 3 (ipykernel)",
   "language": "python",
   "name": "python3"
  },
  "language_info": {
   "codemirror_mode": {
    "name": "ipython",
    "version": 3
   },
   "file_extension": ".py",
   "mimetype": "text/x-python",
   "name": "python",
   "nbconvert_exporter": "python",
   "pygments_lexer": "ipython3",
   "version": "3.9.12"
  }
 },
 "nbformat": 4,
 "nbformat_minor": 5
}
