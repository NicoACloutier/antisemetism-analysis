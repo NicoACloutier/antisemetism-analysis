{
 "cells": [
  {
   "cell_type": "code",
   "execution_count": 2,
   "id": "a34ec209",
   "metadata": {},
   "outputs": [],
   "source": [
    "import rulesbased as rb\n",
    "import pandas as pd\n",
    "import matplotlib\n",
    "from matplotlib import pyplot as plt\n",
    "import collections"
   ]
  },
  {
   "cell_type": "code",
   "execution_count": 3,
   "id": "aaadb499",
   "metadata": {
    "scrolled": true
   },
   "outputs": [
    {
     "name": "stdout",
     "output_type": "stream",
     "text": [
      "Bankers are professionals: Antisemitic? True (expected: False). Type? economic.\n",
      "\n",
      "Jesus is a figure in the Bible, but not : Antisemitic? True (expected: False). Type? religious.\n",
      "\n",
      "We didn't fail because we're useless and: Antisemitic? False (expected: True). Type? religious (expected: racial).\n",
      "\n",
      "Not what you think  Propagandist  PRO zi: Antisemitic? True (expected: True). Type? political (expected: political).\n",
      "\n",
      "Zionist bankers have been fuelling China: Antisemitic? True (expected: True). Type? economic (expected: economic).\n",
      "\n",
      "The truth shall make us free. #FreePales: Antisemitic? True (expected: True). Type? political (expected: political).\n",
      "\n",
      "Enough with the business of the Shoah! 2: Antisemitic? True (expected: True). Type? economic (expected: religious).\n",
      "\n",
      "20. The Virtue of Nationalism  Didn't fi: Antisemitic? True (expected: False). Type? religious.\n",
      "\n"
     ]
    }
   ],
   "source": [
    "text = 'Bankers are professionals'\n",
    "antisemitic_bool = rb.is_antisemitic(text)\n",
    "as_type = rb.type(text)\n",
    "print(f'{text:.40}: Antisemitic? {antisemitic_bool} (expected: False). Type? {as_type}.\\n')\n",
    "\n",
    "text = 'Jesus is a figure in the Bible, but not the Torah'\n",
    "antisemitic_bool = rb.is_antisemitic(text)\n",
    "as_type = rb.type(text)\n",
    "print(f'{text:.40}: Antisemitic? {antisemitic_bool} (expected: False). Type? {as_type}.\\n')\n",
    "\n",
    "#examples from dataset\n",
    "\n",
    "#this one got type 4 antisemitism\n",
    "text = \"We didn't fail because we're useless and our ideology is incoherent, it-- IT WAS THE JEWS' FAULT\"\n",
    "antisemitic_bool = rb.is_antisemitic(text)\n",
    "as_type = rb.type(text)\n",
    "print(f'{text:.40}: Antisemitic? {antisemitic_bool} (expected: True). Type? {as_type} (expected: racial).\\n')\n",
    "\n",
    "#this one got type 1\n",
    "text = 'Not what you think  Propagandist  PRO zionist (Amos Oz supporter) Parents â€”&gt; Hollywood'\n",
    "antisemitic_bool = rb.is_antisemitic(text)\n",
    "as_type = rb.type(text)\n",
    "print(f'{text:.40}: Antisemitic? {antisemitic_bool} (expected: True). Type? {as_type} (expected: political).\\n')\n",
    "\n",
    "#this one got 2\n",
    "text = \"Zionist bankers have been fuelling China's growth for decades.... The Chinese model of a godless, soul less,  dictatorial super surveillance AI driven high tech police state is the model to be replicated for NWO globally.  It's deeply disturbing...\"\n",
    "antisemitic_bool = rb.is_antisemitic(text)\n",
    "as_type = rb.type(text)\n",
    "print(f'{text:.40}: Antisemitic? {antisemitic_bool} (expected: True). Type? {as_type} (expected: economic).\\n')\n",
    "\n",
    "#this one got 1\n",
    "text = \"The truth shall make us free. #FreePalestine ! Why are #USTAXPAYERS paying to violate the #human #rights of others ? The satanic Zionist apartheid system figures it can get away w/ this as long as itâ€™s kept silent &amp; secret ! #BDS #BDS #BDS\"\n",
    "antisemitic_bool = rb.is_antisemitic(text)\n",
    "as_type = rb.type(text)\n",
    "print(f'{text:.40}: Antisemitic? {antisemitic_bool} (expected: True). Type? {as_type} (expected: political).\\n')\n",
    "\n",
    "#this one got 3\n",
    "text = \"Enough with the business of the Shoah! 271,301 deaths in all labor camps combined between 40/45 (red cross). We must stop this infamous plot. 70 million Christians murdered by the Jews in Russia  1917- 1953 of which nobody speaks. 48000 churches burned down.\"\n",
    "antisemitic_bool = rb.is_antisemitic(text)\n",
    "as_type = rb.type(text)\n",
    "print(f'{text:.40}: Antisemitic? {antisemitic_bool} (expected: True). Type? {as_type} (expected: religious).\\n')\n",
    "\n",
    "#this was not antisemitic\n",
    "text = \"20. The Virtue of Nationalism  Didn't finish. Yoram Hazony takes a few of the larger historical arguments against liberalism, and continuously repeats them in a loop of Israel-&gt;I'm not racist-&gt;cultural homogeneity-&gt;Israel.   Feels like this should've been an essay.\"\n",
    "antisemitic_bool = rb.is_antisemitic(text)\n",
    "as_type = rb.type(text)\n",
    "print(f'{text:.40}: Antisemitic? {antisemitic_bool} (expected: False). Type? {as_type}.\\n')"
   ]
  },
  {
   "cell_type": "code",
   "execution_count": 5,
   "id": "cc450203",
   "metadata": {
    "scrolled": false
   },
   "outputs": [
    {
     "name": "stdout",
     "output_type": "stream",
     "text": [
      "Boolean average: 0.6016949152542372 (Chance: 0.5)\n",
      "Classification average: 0.46153846153846156 (Chance: 0.25)\n"
     ]
    }
   ],
   "source": [
    "df = pd.read_csv('..\\\\data\\\\predicted\\\\test-predicted.csv')\n",
    "df['bool_correct'] = df.apply(lambda x: int(x['is_antisemitic'] == x['classification']), axis=1)\n",
    "print(f'Boolean average: {sum(df[\"bool_correct\"])/len(df)} (Chance: 0.5)')\n",
    "\n",
    "df = df[df['classification'] == 1]\n",
    "df['classify_correct'] = df.apply(lambda x: int(x['type_of_antisemitism'] == x['predicted_type']), axis=1)\n",
    "print(f'Classification average: {sum(df[\"classify_correct\"])/len(df)} (Chance: 0.25)')"
   ]
  },
  {
   "cell_type": "code",
   "execution_count": 6,
   "id": "ba2d76c0",
   "metadata": {},
   "outputs": [
    {
     "name": "stdout",
     "output_type": "stream",
     "text": [
      "Boolean average: 0.6016949152542372 (Chance: 0.5)\n",
      "Classification average: 0.46153846153846156 (Chance: 0.25)\n"
     ]
    }
   ],
   "source": [
    "df = pd.read_csv('..\\\\data\\\\predicted\\\\test-predicted.csv')\n",
    "df['bool_correct'] = df.apply(lambda x: int(x['tfidf-is_antisemitic'] == x['classification']), axis=1)\n",
    "print(f'Boolean average: {sum(df[\"bool_correct\"])/len(df)} (Chance: 0.5)')\n",
    "\n",
    "df = df[df['classification'] == 1]\n",
    "df['classify_correct'] = df.apply(lambda x: int(x['type_of_antisemitism'] == x['tfidf-type']), axis=1)\n",
    "print(f'Classification average: {sum(df[\"classify_correct\"])/len(df)} (Chance: 0.25)')"
   ]
  }
 ],
 "metadata": {
  "kernelspec": {
   "display_name": "Python 3 (ipykernel)",
   "language": "python",
   "name": "python3"
  },
  "language_info": {
   "codemirror_mode": {
    "name": "ipython",
    "version": 3
   },
   "file_extension": ".py",
   "mimetype": "text/x-python",
   "name": "python",
   "nbconvert_exporter": "python",
   "pygments_lexer": "ipython3",
   "version": "3.9.12"
  }
 },
 "nbformat": 4,
 "nbformat_minor": 5
}
